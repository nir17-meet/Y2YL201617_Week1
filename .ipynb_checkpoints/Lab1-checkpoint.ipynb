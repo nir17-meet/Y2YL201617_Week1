{
 "metadata": {
  "kernelspec": {
   "display_name": "Python [Root]",
   "language": "python",
   "name": "Python [Root]"
  },
  "language_info": {
   "codemirror_mode": {
    "name": "ipython",
    "version": 3
   },
   "file_extension": ".py",
   "mimetype": "text/x-python",
   "name": "python",
   "nbconvert_exporter": "python",
   "pygments_lexer": "ipython3",
   "version": "3.5.2"
  },
  "name": "",
  "signature": "sha256:e4dcc15e556a32ba16efb1368dbba7efac2f2fe57ecbf56c5069c1a88a193fc5"
 },
 "nbformat": 3,
 "nbformat_minor": 0,
 "worksheets": [
  {
   "cells": [
    {
     "cell_type": "heading",
     "level": 1,
     "metadata": {},
     "source": [
      "Week 1 Activity"
     ]
    },
    {
     "cell_type": "markdown",
     "metadata": {},
     "source": [
      "Today, you will get some practice using [Juptyer](http://jupyter.org/) (commonly known as iPython Notebook) and learning some of the cool features is has."
     ]
    },
    {
     "cell_type": "heading",
     "level": 2,
     "metadata": {},
     "source": [
      "Part 1 - Markdown"
     ]
    },
    {
     "cell_type": "markdown",
     "metadata": {},
     "source": [
      "Markdown is a lightweight markup language with plain text formatting syntax designed so that it can be converted to HTML and many other formats. Markdown is often used to format readme files, for writing messages in online discussion forums, and to create rich text using a plain text editor. You can read more about it [here](https://en.wikipedia.org/wiki/Markdown).  In addition to Python and many other programming languages, iPython notebook supports adding Markdown to make your code and analysis easy to follow.  To insert Markdown into your ipython notebook press the \"ESC\" key twice and then press \"m\". When you are finished, press \"Shift+Enter\" to render the markdown code into text."
     ]
    },
    {
     "cell_type": "markdown",
     "metadata": {},
     "source": [
      "## Turn the following Python comment into Markdown code by hitting the 'esc' key twice and then 'm'"
     ]
    },
    {
     "cell_type": "markdown",
     "metadata": {},
     "source": [
      "### Paragraphs\n",
      "\n",
      "# Heading 1\n",
      "## Heading 2\n",
      "### Heading 3\n",
      "#### Heading 4\n",
      "\n",
      "Practice using these headings in the lines below. Use the \"+\" button to add a new line of code."
     ]
    },
    {
     "cell_type": "markdown",
     "metadata": {},
     "source": [
      "## HTML Backwards compatibility\n",
      "\n",
      "Markdown formatting also lets you switch back and forth between traditional markdown and HTML.  I can make something bold with __double underscores__ or by using the <b>B HTML Tag</b>. Practice using this and see if you can figure out how to make italics as well."
     ]
    },
    {
     "cell_type": "markdown",
     "metadata": {},
     "source": [
      "## Exploring Documentation\n",
      "\n",
      "Check out the [markdown documentation](https://daringfireball.net/projects/markdown/syntax) and show one other feature of markdown you discovered. Provide an example of it below:"
     ]
    },
    {
     "cell_type": "markdown",
     "metadata": {},
     "source": [
      "<i> Mi dispiace, ma devo confest: **Pizza Hut \u00e8 la migliore pizza mai** </i>"
     ]
    },
    {
     "cell_type": "markdown",
     "metadata": {},
     "source": [
      "__bold text hehehehehe__"
     ]
    },
    {
     "cell_type": "markdown",
     "metadata": {},
     "source": [
      "## Part II: Using Python\n",
      "\n",
      "iPython Notebook is great for Markdown but is mainly used for executing code.  In the line below execute the python code provided by pressing \"Shift+Enter\""
     ]
    },
    {
     "cell_type": "code",
     "collapsed": false,
     "input": [
      "a = \"I'll tell you want I want\"\n",
      "b = \" what I really really want\"\n",
      "\n",
      "print (a + ',' + b)"
     ],
     "language": "python",
     "metadata": {},
     "outputs": [],
     "prompt_number": null
    },
    {
     "cell_type": "heading",
     "level": 3,
     "metadata": {},
     "source": [
      "Okay, now it's  your turn, remember for loops? Make a list of items of all the things you and your partner have eaten today and loop through printing each item. "
     ]
    },
    {
     "cell_type": "code",
     "collapsed": true,
     "input": [
      "food_items = [\"hamburger\",\"puncake\",\"apple\",\"pen\",\"applepen\",\"apenaplleapenpen\"]\n",
      "\n",
      "for item in food_items:\n",
      "    print(item)\n",
      "\n",
      "    \n",
      "    \n",
      "    "
     ],
     "language": "python",
     "metadata": {},
     "outputs": [
      {
       "ename": "SyntaxError",
       "evalue": "invalid syntax (<ipython-input-2-999ab844c748>, line 3)",
       "output_type": "pyerr",
       "traceback": [
        "\u001b[0;36m  File \u001b[0;32m\"<ipython-input-2-999ab844c748>\"\u001b[0;36m, line \u001b[0;32m3\u001b[0m\n\u001b[0;31m    for item in food items:\u001b[0m\n\u001b[0m                         ^\u001b[0m\n\u001b[0;31mSyntaxError\u001b[0m\u001b[0;31m:\u001b[0m invalid syntax\n"
       ]
      }
     ],
     "prompt_number": 2
    },
    {
     "cell_type": "heading",
     "level": 3,
     "metadata": {},
     "source": [
      "You can even make functions and use them for later"
     ]
    },
    {
     "cell_type": "code",
     "collapsed": true,
     "input": [
      "def flipIt(word):\n",
      "    newwordlst = list(word)\n",
      "    for index, letter in enumerate(list(word)):\n",
      "        newwordlst[len(word)-index-1] = letter\n",
      "    return str(''.join(newwordlst))"
     ],
     "language": "python",
     "metadata": {},
     "outputs": [],
     "prompt_number": 34
    },
    {
     "cell_type": "code",
     "collapsed": false,
     "input": [
      "print(\"your name spelled backwards is \" + str(flipIt(\"Lorenzo\")) + \".\")"
     ],
     "language": "python",
     "metadata": {},
     "outputs": [
      {
       "output_type": "stream",
       "stream": "stdout",
       "text": [
        "your name spelled backwards is ozneroL.\n"
       ]
      }
     ],
     "prompt_number": 36
    },
    {
     "cell_type": "heading",
     "level": 3,
     "metadata": {},
     "source": [
      "Make a different function and call it later on in your iPython Notebook"
     ]
    },
    {
     "cell_type": "code",
     "collapsed": true,
     "input": [],
     "language": "python",
     "metadata": {},
     "outputs": [],
     "prompt_number": null
    },
    {
     "cell_type": "code",
     "collapsed": true,
     "input": [],
     "language": "python",
     "metadata": {},
     "outputs": [],
     "prompt_number": null
    },
    {
     "cell_type": "heading",
     "level": 2,
     "metadata": {},
     "source": [
      "Part III: Y2 Summer Review"
     ]
    },
    {
     "cell_type": "heading",
     "level": 3,
     "metadata": {},
     "source": [
      "What is a Lean Canvas? Why do we use it?  Describe at least 4 of the boxes in the lean canvas and an example of each one."
     ]
    },
    {
     "cell_type": "code",
     "collapsed": true,
     "input": [],
     "language": "python",
     "metadata": {},
     "outputs": [],
     "prompt_number": null
    },
    {
     "cell_type": "heading",
     "level": 3,
     "metadata": {},
     "source": [
      "What is the difference between a GET and POST request? When should I use each one?"
     ]
    },
    {
     "cell_type": "code",
     "collapsed": true,
     "input": [],
     "language": "python",
     "metadata": {},
     "outputs": [],
     "prompt_number": null
    },
    {
     "cell_type": "heading",
     "level": 3,
     "metadata": {},
     "source": [
      "How are you feeling about Y2 Yearlong? What are some things you would like to get out of this yearlong? "
     ]
    },
    {
     "cell_type": "code",
     "collapsed": true,
     "input": [],
     "language": "python",
     "metadata": {},
     "outputs": [],
     "prompt_number": null
    },
    {
     "cell_type": "markdown",
     "metadata": {},
     "source": [
      "Commit your code changes, push to your GitHub Repository and submit a pull request to the original repo. "
     ]
    }
   ],
   "metadata": {}
  }
 ]
}